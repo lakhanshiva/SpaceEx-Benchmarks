{
 "cells": [
  {
   "cell_type": "markdown",
   "metadata": {},
   "source": [
    "See `ISS.ipynb` for the reachability analysis of ISS. The file `ISS.ipynb` loads the model's data from the given `.mat` files.\n",
    "\n",
    "This file, `ISS_SX.ipynb` is for testing purposes only, to check that the SX (`.XML`) model file is parsed appropriately."
   ]
  },
  {
   "cell_type": "code",
   "execution_count": 1,
   "metadata": {},
   "outputs": [
    {
     "name": "stderr",
     "output_type": "stream",
     "text": [
      "\u001b[1m\u001b[36mINFO: \u001b[39m\u001b[22m\u001b[36mRecompiling stale cache file /Users/kekatos/.julia/lib/v0.6/SX.ji for module SX.\n",
      "\u001b[39m"
     ]
    }
   ],
   "source": [
    "using SX"
   ]
  },
  {
   "cell_type": "code",
   "execution_count": 2,
   "metadata": {},
   "outputs": [
    {
     "ename": "LoadError",
     "evalue": "\u001b[91minvariant y1 = (((((((6.7947e-5x1 - 0.029964x2) + 0.025941x3) - 0.00012623x4) + 6.5319e-6x5 + 0.00013057x6) - 0.06363x7) - 0.00012503x8) + 0.01654x9) - 0.0012343x10 in location 1 contains a combination of state variables and input variables, and conversion to a system of type MathematicalSystems.ConstrainedLinearControlContinuousSystem is not possible\u001b[39m",
     "output_type": "error",
     "traceback": [
      "\u001b[91minvariant y1 = (((((((6.7947e-5x1 - 0.029964x2) + 0.025941x3) - 0.00012623x4) + 6.5319e-6x5 + 0.00013057x6) - 0.06363x7) - 0.00012503x8) + 0.01654x9) - 0.0012343x10 in location 1 contains a combination of state variables and input variables, and conversion to a system of type MathematicalSystems.ConstrainedLinearControlContinuousSystem is not possible\u001b[39m",
      "",
      "Stacktrace:",
      " [1] \u001b[1m#linearHS#25\u001b[22m\u001b[22m\u001b[1m(\u001b[22m\u001b[22m::Type{T} where T, ::Type{T} where T, ::Type{T} where T, ::Array{Any,1}, ::Function, ::Dict{String,Any}\u001b[1m)\u001b[22m\u001b[22m at \u001b[1m/Users/kekatos/.julia/v0.6/SX/src/symbolic.jl:138\u001b[22m\u001b[22m",
      " [2] \u001b[1m(::SX.#kw##linearHS)\u001b[22m\u001b[22m\u001b[1m(\u001b[22m\u001b[22m::Array{Any,1}, ::SX.#linearHS, ::Dict{String,Any}\u001b[1m)\u001b[22m\u001b[22m at \u001b[1m./<missing>:0\u001b[22m\u001b[22m",
      " [3] \u001b[1m#readsxmodel#1\u001b[22m\u001b[22m\u001b[1m(\u001b[22m\u001b[22m::Bool, ::Type{T} where T, ::Type{T} where T, ::Array{Any,1}, ::Function, ::String\u001b[1m)\u001b[22m\u001b[22m at \u001b[1m/Users/kekatos/.julia/v0.6/SX/src/io.jl:149\u001b[22m\u001b[22m",
      " [4] \u001b[1m(::SX.#kw##readsxmodel)\u001b[22m\u001b[22m\u001b[1m(\u001b[22m\u001b[22m::Array{Any,1}, ::SX.#readsxmodel, ::String\u001b[1m)\u001b[22m\u001b[22m at \u001b[1m./<missing>:0\u001b[22m\u001b[22m"
     ]
    }
   ],
   "source": [
    "file = \"issr_10_flat_manual.xml\"\n",
    "\n",
    "# check that the system can be automatically transformed to one of the form x' = Ax + Bu\n",
    "H = readsxmodel(file, ST=ConstrainedLinearControlContinuousSystem)"
   ]
  },
  {
   "cell_type": "code",
   "execution_count": 3,
   "metadata": {},
   "outputs": [
    {
     "data": {
      "text/plain": [
       "Dict{String,Any} with 10 entries:\n",
       "  \"automaton\"        => HybridSystems.LightAutomaton{LightGraphs.SimpleGraphs.S…\n",
       "  \"invariants\"       => Array{Expr,1}[Expr[:(t <= 20.0), :(u1 >= 0.0), :(u1 <= …\n",
       "  \"transitionlabels\" => Set{String}()\n",
       "  \"variables\"        => DataStructures.OrderedDict(:x1=>Dict{String,Any}(Pair{S…\n",
       "  \"guards\"           => Array{Expr,1}[]\n",
       "  \"flows\"            => Array{Expr,1}[Expr[:(x1' = ((((((((((0.77508x2 - 1.5818…\n",
       "  \"assignments\"      => Array{Expr,1}[]\n",
       "  \"switchings\"       => HybridSystems.AbstractSwitching[]\n",
       "  \"nlocations\"       => 1\n",
       "  \"ntransitions\"     => 0"
      ]
     },
     "execution_count": 3,
     "metadata": {},
     "output_type": "execute_result"
    }
   ],
   "source": [
    "HDict = readsxmodel(file, raw_dict=true)"
   ]
  },
  {
   "cell_type": "code",
   "execution_count": 4,
   "metadata": {},
   "outputs": [
    {
     "data": {
      "text/plain": [
       "Dict{String,Any} with 4 entries:\n",
       "  \"local\"      => false\n",
       "  \"controlled\" => false\n",
       "  \"dynamics\"   => \"any\"\n",
       "  \"id\"         => 11"
      ]
     },
     "execution_count": 4,
     "metadata": {},
     "output_type": "execute_result"
    }
   ],
   "source": [
    "HDict[\"variables\"][:y1] # input variable (it is not controlled)"
   ]
  },
  {
   "cell_type": "code",
   "execution_count": 5,
   "metadata": {},
   "outputs": [
    {
     "data": {
      "text/plain": [
       "Dict{String,Any} with 4 entries:\n",
       "  \"local\"      => false\n",
       "  \"controlled\" => true\n",
       "  \"dynamics\"   => \"any\"\n",
       "  \"id\"         => 1"
      ]
     },
     "execution_count": 5,
     "metadata": {},
     "output_type": "execute_result"
    }
   ],
   "source": [
    "HDict[\"variables\"][:x1] # state variable (it is controlled)"
   ]
  },
  {
   "cell_type": "code",
   "execution_count": 6,
   "metadata": {},
   "outputs": [
    {
     "data": {
      "text/plain": [
       "Dict{String,Any} with 4 entries:\n",
       "  \"local\"      => false\n",
       "  \"controlled\" => false\n",
       "  \"dynamics\"   => \"any\"\n",
       "  \"id\"         => 15"
      ]
     },
     "execution_count": 6,
     "metadata": {},
     "output_type": "execute_result"
    }
   ],
   "source": [
    "HDict[\"variables\"][:u1] # input variable (it is not controlled)"
   ]
  },
  {
   "cell_type": "code",
   "execution_count": 27,
   "metadata": {},
   "outputs": [
    {
     "ename": "LoadError",
     "evalue": "\u001b[91minvariant y1 = (((((((((((((((((((((((((((((((((((((((((((((((((((((((((((((((((((((((((((((((((((((((((((((((((((2.623715143e-9x136 - 0.001767907952x137) - 4.114192843e-13x138) - 2.828197461e-8x139) - 1.014162058e-8x140) - 0.001530569386x141) + 0.0001272182366x142 + 2.372096395e-8x143) - 5.167400217e-5x144) - 5.371760807e-7x145) + 3.726218574e-5x146) - 1.65353284e-7x147) + 1.913193742e-8x148) - 0.0006418814751x149) - 4.5456181e-7x150) + 4.966585555e-8x151) - 1.718704976e-9x152) - 0.000355192975x153) + 2.901831506e-7x154 + 2.054077228e-8x155) - 1.672619525e-9x156) + 0.0001308960756x157) - 0.0002566235864x158) - 2.814773409e-7x159) - 6.565187277e-5x160) + 4.958923987e-6x161) - 0.0003559730047x162) + 1.225218243e-8x163) - 0.0005214428724x164) - 6.216023541e-10x165) + 4.330462056e-5x166) - 8.869313801e-8x167) + 2.714998058e-10x168 + 3.871408816e-8x169 + 4.09258049e-9x170 + 1.06313188e-8x171) - 4.748796921e-9x172) - 4.74309187e-8x173) - 0.0001230221917x174) - 8.8338434e-8x175) - 0.0002912572195x176) - 1.476360331e-5x177) - 1.228344949e-8x178) - 1.436380391e-6x179) - 3.358783143e-8x180) + 0.0002252283272x181 + 1.414835322e-5x182) - 1.254322271e-7x183) - 5.810835638e-6x184) - 9.009541381e-5x185) - 1.970943572e-5x186) - 2.637344096e-6x187) + 8.165996765e-8x188 + 3.270729588e-7x189) - 2.149528808e-5x190) - 0.0001040511223x191) - 3.493371505e-7x192) + 4.78144983e-7x193 + 1.948298718e-9x194 + 1.260047154e-6x195 + 1.856731946e-8x196) - 1.58281475e-5x197) - 1.300534897e-5x198) - 2.353456823e-7x199) + 1.625622819e-6x200 + 5.515998358e-7x201) - 1.489127361e-7x202) - 1.739119092e-5x203) - 1.738387549e-5x204) + 9.77872311e-7x205) - 3.92063592e-9x206) + 1.329638886e-8x207) - 6.30934409e-8x208) + 3.252507572e-8x209) - 6.199049827e-8x210) - 1.0536446e-8x211) + 0.0006580390213x212 + 7.32924926e-7x213) - 0.003376946024x214) + 4.449737947e-6x215 + 5.698370758e-5x216 + 8.366695122e-6x217) - 5.287453243e-5x218) - 9.488886975e-8x219) - 6.764421473e-5x220) - 9.705343528e-7x221) + 1.844771163e-6x222) - 2.063889922e-6x223) + 1.801593302e-6x224 + 1.292572063e-8x225 + 1.203630145e-12x226 + 1.209223875e-7x227 + 4.982054356e-7x228 + 1.495883934e-6x229 + 1.469035634e-5x230 + 2.956677728e-6x231 + 4.318549784e-6x232) - 1.138199309e-5x233) + 2.837485154e-5x234 + 3.623520737e-5x235) - 1.165536056e-6x236) + 4.851185555e-5x237) - 2.556032234e-6x238) - 0.0001810762276x239) + 4.896482687e-6x240 + 0.0002472988944x241) - 0.0004601646855x242) - 1.540281353e-7x243) - 3.540247423e-5x244) - 6.69198575e-7x245) - 3.087210802e-5x246) - 2.642328121e-6x247) - 2.509319193e-5x248) + 3.2698136e-8x249 + 1.30662632e-5x250 + 0.0002753932668x251 + 7.087777424e-6x252) - 8.453892499e-8x253) + 6.597672623e-6x254 + 8.71157359e-6x255 + 1.259732465e-7x256 + 1.82383545e-5x257) - 6.246375262e-8x258) + 6.31765699e-9x259 + 2.067304103e-8x260 + 1.095625662e-9x261) - 4.767616746e-8x262) + 3.035696352e-9x263) - 5.595780841e-8x264) - 3.211557828e-9x265) + 4.786754477e-8x266 + 2.956110608e-9x267) - 5.066253486e-10x268) + 1.47610101e-10x269 + 2.477433147e-5x270 in location 1 contains a combination of state variables and input variables, and conversion to a system of type MathematicalSystems.ConstrainedLinearControlContinuousSystem is not possible\u001b[39m",
     "output_type": "error",
     "traceback": [
      "\u001b[91minvariant y1 = (((((((((((((((((((((((((((((((((((((((((((((((((((((((((((((((((((((((((((((((((((((((((((((((((((2.623715143e-9x136 - 0.001767907952x137) - 4.114192843e-13x138) - 2.828197461e-8x139) - 1.014162058e-8x140) - 0.001530569386x141) + 0.0001272182366x142 + 2.372096395e-8x143) - 5.167400217e-5x144) - 5.371760807e-7x145) + 3.726218574e-5x146) - 1.65353284e-7x147) + 1.913193742e-8x148) - 0.0006418814751x149) - 4.5456181e-7x150) + 4.966585555e-8x151) - 1.718704976e-9x152) - 0.000355192975x153) + 2.901831506e-7x154 + 2.054077228e-8x155) - 1.672619525e-9x156) + 0.0001308960756x157) - 0.0002566235864x158) - 2.814773409e-7x159) - 6.565187277e-5x160) + 4.958923987e-6x161) - 0.0003559730047x162) + 1.225218243e-8x163) - 0.0005214428724x164) - 6.216023541e-10x165) + 4.330462056e-5x166) - 8.869313801e-8x167) + 2.714998058e-10x168 + 3.871408816e-8x169 + 4.09258049e-9x170 + 1.06313188e-8x171) - 4.748796921e-9x172) - 4.74309187e-8x173) - 0.0001230221917x174) - 8.8338434e-8x175) - 0.0002912572195x176) - 1.476360331e-5x177) - 1.228344949e-8x178) - 1.436380391e-6x179) - 3.358783143e-8x180) + 0.0002252283272x181 + 1.414835322e-5x182) - 1.254322271e-7x183) - 5.810835638e-6x184) - 9.009541381e-5x185) - 1.970943572e-5x186) - 2.637344096e-6x187) + 8.165996765e-8x188 + 3.270729588e-7x189) - 2.149528808e-5x190) - 0.0001040511223x191) - 3.493371505e-7x192) + 4.78144983e-7x193 + 1.948298718e-9x194 + 1.260047154e-6x195 + 1.856731946e-8x196) - 1.58281475e-5x197) - 1.300534897e-5x198) - 2.353456823e-7x199) + 1.625622819e-6x200 + 5.515998358e-7x201) - 1.489127361e-7x202) - 1.739119092e-5x203) - 1.738387549e-5x204) + 9.77872311e-7x205) - 3.92063592e-9x206) + 1.329638886e-8x207) - 6.30934409e-8x208) + 3.252507572e-8x209) - 6.199049827e-8x210) - 1.0536446e-8x211) + 0.0006580390213x212 + 7.32924926e-7x213) - 0.003376946024x214) + 4.449737947e-6x215 + 5.698370758e-5x216 + 8.366695122e-6x217) - 5.287453243e-5x218) - 9.488886975e-8x219) - 6.764421473e-5x220) - 9.705343528e-7x221) + 1.844771163e-6x222) - 2.063889922e-6x223) + 1.801593302e-6x224 + 1.292572063e-8x225 + 1.203630145e-12x226 + 1.209223875e-7x227 + 4.982054356e-7x228 + 1.495883934e-6x229 + 1.469035634e-5x230 + 2.956677728e-6x231 + 4.318549784e-6x232) - 1.138199309e-5x233) + 2.837485154e-5x234 + 3.623520737e-5x235) - 1.165536056e-6x236) + 4.851185555e-5x237) - 2.556032234e-6x238) - 0.0001810762276x239) + 4.896482687e-6x240 + 0.0002472988944x241) - 0.0004601646855x242) - 1.540281353e-7x243) - 3.540247423e-5x244) - 6.69198575e-7x245) - 3.087210802e-5x246) - 2.642328121e-6x247) - 2.509319193e-5x248) + 3.2698136e-8x249 + 1.30662632e-5x250 + 0.0002753932668x251 + 7.087777424e-6x252) - 8.453892499e-8x253) + 6.597672623e-6x254 + 8.71157359e-6x255 + 1.259732465e-7x256 + 1.82383545e-5x257) - 6.246375262e-8x258) + 6.31765699e-9x259 + 2.067304103e-8x260 + 1.095625662e-9x261) - 4.767616746e-8x262) + 3.035696352e-9x263) - 5.595780841e-8x264) - 3.211557828e-9x265) + 4.786754477e-8x266 + 2.956110608e-9x267) - 5.066253486e-10x268) + 1.47610101e-10x269 + 2.477433147e-5x270 in location 1 contains a combination of state variables and input variables, and conversion to a system of type MathematicalSystems.ConstrainedLinearControlContinuousSystem is not possible\u001b[39m",
      "",
      "Stacktrace:",
      " [1] \u001b[1m#linearHS#25\u001b[22m\u001b[22m\u001b[1m(\u001b[22m\u001b[22m::Type{T} where T, ::Type{T} where T, ::Type{T} where T, ::Array{Any,1}, ::Function, ::Dict{String,Any}\u001b[1m)\u001b[22m\u001b[22m at \u001b[1m/Users/forets/.julia/v0.6/SX/src/symbolic.jl:134\u001b[22m\u001b[22m",
      " [2] \u001b[1m(::SX.#kw##linearHS)\u001b[22m\u001b[22m\u001b[1m(\u001b[22m\u001b[22m::Array{Any,1}, ::SX.#linearHS, ::Dict{String,Any}\u001b[1m)\u001b[22m\u001b[22m at \u001b[1m./<missing>:0\u001b[22m\u001b[22m",
      " [3] \u001b[1m#readsxmodel#1\u001b[22m\u001b[22m\u001b[1m(\u001b[22m\u001b[22m::Bool, ::Type{T} where T, ::Type{T} where T, ::Array{Any,1}, ::Function, ::String\u001b[1m)\u001b[22m\u001b[22m at \u001b[1m/Users/forets/.julia/v0.6/SX/src/io.jl:149\u001b[22m\u001b[22m",
      " [4] \u001b[1m(::SX.#kw##readsxmodel)\u001b[22m\u001b[22m\u001b[1m(\u001b[22m\u001b[22m::Array{Any,1}, ::SX.#readsxmodel, ::String\u001b[1m)\u001b[22m\u001b[22m at \u001b[1m./<missing>:0\u001b[22m\u001b[22m",
      " [5] \u001b[1minclude_string\u001b[22m\u001b[22m\u001b[1m(\u001b[22m\u001b[22m::String, ::String\u001b[1m)\u001b[22m\u001b[22m at \u001b[1m./loading.jl:522\u001b[22m\u001b[22m"
     ]
    }
   ],
   "source": [
    "file = \"iss_270_flat_manual.xml\"\n",
    "\n",
    "# check that the automaton is built properly and the math expressions are parsed\n",
    "H = readsxmodel(file, ST=ConstrainedLinearControlContinuousSystem)"
   ]
  },
  {
   "cell_type": "code",
   "execution_count": 7,
   "metadata": {},
   "outputs": [
    {
     "ename": "LoadError",
     "evalue": "\u001b[91minvariant y1 = (((((((((((((((((((6.7947e-5x1 - 0.029964x2) + 0.025941x3) - 0.00012623x4) + 6.5319e-6x5 + 0.00013057x6) - 0.06363x7) - 0.00012503x8) + 0.01654x9) - 0.0012343x10) + 0.00039397x11) - 4.9634e-5x12) + 2.6668e-5x13 + 0.0064785x14) - 0.00031115x15) - 8.4037e-6x16) + 0.010871x17 + 8.5868e-5x18) - 0.013733x19) - 0.0010578x20) + 1.9534e-7x21) - 3.2648e-6x22) + 0.0020022x23 + 0.00039358x24) - 4.4432e-5x25 in location 1 contains a combination of state variables and input variables, and conversion to a system of type MathematicalSystems.ConstrainedLinearControlContinuousSystem is not possible\u001b[39m",
     "output_type": "error",
     "traceback": [
      "\u001b[91minvariant y1 = (((((((((((((((((((6.7947e-5x1 - 0.029964x2) + 0.025941x3) - 0.00012623x4) + 6.5319e-6x5 + 0.00013057x6) - 0.06363x7) - 0.00012503x8) + 0.01654x9) - 0.0012343x10) + 0.00039397x11) - 4.9634e-5x12) + 2.6668e-5x13 + 0.0064785x14) - 0.00031115x15) - 8.4037e-6x16) + 0.010871x17 + 8.5868e-5x18) - 0.013733x19) - 0.0010578x20) + 1.9534e-7x21) - 3.2648e-6x22) + 0.0020022x23 + 0.00039358x24) - 4.4432e-5x25 in location 1 contains a combination of state variables and input variables, and conversion to a system of type MathematicalSystems.ConstrainedLinearControlContinuousSystem is not possible\u001b[39m",
      "",
      "Stacktrace:",
      " [1] \u001b[1m#linearHS#25\u001b[22m\u001b[22m\u001b[1m(\u001b[22m\u001b[22m::Type{T} where T, ::Type{T} where T, ::Type{T} where T, ::Array{Any,1}, ::Function, ::Dict{String,Any}\u001b[1m)\u001b[22m\u001b[22m at \u001b[1m/Users/kekatos/.julia/v0.6/SX/src/symbolic.jl:138\u001b[22m\u001b[22m",
      " [2] \u001b[1m(::SX.#kw##linearHS)\u001b[22m\u001b[22m\u001b[1m(\u001b[22m\u001b[22m::Array{Any,1}, ::SX.#linearHS, ::Dict{String,Any}\u001b[1m)\u001b[22m\u001b[22m at \u001b[1m./<missing>:0\u001b[22m\u001b[22m",
      " [3] \u001b[1m#readsxmodel#1\u001b[22m\u001b[22m\u001b[1m(\u001b[22m\u001b[22m::Bool, ::Type{T} where T, ::Type{T} where T, ::Array{Any,1}, ::Function, ::String\u001b[1m)\u001b[22m\u001b[22m at \u001b[1m/Users/kekatos/.julia/v0.6/SX/src/io.jl:149\u001b[22m\u001b[22m",
      " [4] \u001b[1m(::SX.#kw##readsxmodel)\u001b[22m\u001b[22m\u001b[1m(\u001b[22m\u001b[22m::Array{Any,1}, ::SX.#readsxmodel, ::String\u001b[1m)\u001b[22m\u001b[22m at \u001b[1m./<missing>:0\u001b[22m\u001b[22m"
     ]
    }
   ],
   "source": [
    "file = \"issr_25_flat_manual.xml\"\n",
    "\n",
    "# check that the system can be automatically transformed to one of the form x' = Ax + Bu\n",
    "H = readsxmodel(file, ST=ConstrainedLinearControlContinuousSystem)"
   ]
  },
  {
   "cell_type": "code",
   "execution_count": null,
   "metadata": {},
   "outputs": [],
   "source": []
  }
 ],
 "metadata": {
  "kernelspec": {
   "display_name": "Julia 0.6.1",
   "language": "julia",
   "name": "julia-0.6"
  },
  "language_info": {
   "file_extension": ".jl",
   "mimetype": "application/julia",
   "name": "julia",
   "version": "0.6.1"
  }
 },
 "nbformat": 4,
 "nbformat_minor": 2
}
